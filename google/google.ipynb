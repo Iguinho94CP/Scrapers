{
 "cells": [
  {
   "cell_type": "code",
   "execution_count": 7,
   "metadata": {},
   "outputs": [],
   "source": [
    "from selenium import webdriver\n",
    "from selenium.webdriver.common.keys import Keys\n",
    "from selenium.webdriver.common.by import By\n",
    "from selenium.webdriver.support.wait import WebDriverWait\n",
    "from selenium.webdriver.support import expected_conditions as EC\n",
    "from selenium.common.exceptions import NoSuchElementException\n",
    "\n",
    "from bs4 import BeautifulSoup\n",
    "import requests\n",
    "import time"
   ]
  },
  {
   "cell_type": "code",
   "execution_count": 8,
   "metadata": {},
   "outputs": [],
   "source": [
    "driver = webdriver.Chrome()\n",
    "driver.get('https://www.bing.com/?toWww=1&redig=C4DD482400F64D35B76C3F156CCA62B2')\n",
    "driver.maximize_window()\n",
    "time.sleep(5)\n",
    "try:\n",
    "    accept_btn = driver.find_element(By.XPATH, '//*[@id=\"bnp_btn_accept\"]')\n",
    "    accept_btn.click()\n",
    "except Exception as e:\n",
    "    print(e)"
   ]
  },
  {
   "cell_type": "code",
   "execution_count": 9,
   "metadata": {},
   "outputs": [],
   "source": [
    "string = 'Emma Stone'\n",
    "el = driver.find_element(By.NAME, 'q')\n",
    "el.clear()\n",
    "el.send_keys(string)\n",
    "el.send_keys(Keys.RETURN)\n",
    "time.sleep(2)\n",
    "movies = driver.find_element(By.XPATH, '//*[@id=\"b_pole\"]/div/div/div/div/div/div/a[2]')\n",
    "movies.click()\n",
    "time.sleep(5)\n",
    "    \n"
   ]
  },
  {
   "cell_type": "code",
   "execution_count": 10,
   "metadata": {},
   "outputs": [
    {
     "data": {
      "text/plain": [
       "['https://www.bing.com/search?q=The+Croods%3a+A+New+Age+2020&FORM=SNAPST&filters=sid:%22145d30f0-3023-4082-9f47-cbeab807d175%22+fcid:%22dfc69137-76c1-9c86-3a63-ac708ebaf479%22+fccat:%229%22',\n",
       " 'https://www.bing.com/search?q=Cruella+2021&FORM=SNAPST&filters=sid:%22fa5761bf-387d-aafc-ac16-aceb2f992047%22+fcid:%22dfc69137-76c1-9c86-3a63-ac708ebaf479%22+fccat:%229%22',\n",
       " 'https://www.bing.com/search?q=La+La+Land+2016&FORM=SNAPST&filters=sid:%229049fb17-b473-a3ef-2b4d-b1764455c01d%22+fcid:%22dfc69137-76c1-9c86-3a63-ac708ebaf479%22+fccat:%229%22']"
      ]
     },
     "execution_count": 10,
     "metadata": {},
     "output_type": "execute_result"
    }
   ],
   "source": [
    "elems = driver.find_elements(By.XPATH, '//*[@id=\"ent-car-exp\"]/div/div/div[2]/div/ol//a')\n",
    "links = [elem.get_attribute('href') for elem in elems[:3]]\n",
    "links"
   ]
  },
  {
   "cell_type": "code",
   "execution_count": 11,
   "metadata": {},
   "outputs": [],
   "source": [
    "data = []\n",
    "\n",
    "for i in links:\n",
    "    driver.get(i)\n",
    "    cast = driver.find_element(By.XPATH, '//*[@id=\"b_pole\"]/div/div[1]/div/div/div/div/a[2]')\n",
    "    cast.click()\n",
    "    actors = driver.find_elements(By.XPATH, '//*[@id=\"ent-car-exp\"]/div/div/div[2]/div//a')\n",
    "    actors_urls = [ac.get_attribute('href') for ac in actors[:3]]\n",
    "\n",
    "    for j in actors_urls:\n",
    "        driver.get(j)\n",
    "        actor_movies = driver.find_element(By.XPATH, '//*[@id=\"b_pole\"]/div/div[1]/div/div/div/div/a[2]')\n",
    "        actor_movies.click()\n",
    "        movies = driver.find_elements(By.XPATH, '//*[@id=\"ent-car-exp\"]/div/div/div[2]/div/ol//a')\n",
    "        links_ = []\n",
    "        counter = 0\n",
    "        for movie in movies:\n",
    "            if counter == 3:\n",
    "                break\n",
    "            try:\n",
    "                title = movie.find_element(By.CLASS_NAME, 'titOnCard').text\n",
    "                link = movie.get_attribute('href')\n",
    "            except NoSuchElementException:\n",
    "                print('Element not found!')\n",
    "                continue\n",
    " \n",
    "            links_.append(link)\n",
    "            data.append({\n",
    "                'Title': title,\n",
    "                'Link': link\n",
    "            })\n",
    "            counter += 1\n",
    "\n"
   ]
  },
  {
   "cell_type": "code",
   "execution_count": 12,
   "metadata": {},
   "outputs": [
    {
     "data": {
      "text/plain": [
       "[{'Title': 'The Unbearable Weight of Massive Talent',\n",
       "  'Link': 'https://www.bing.com/search?q=The+Unbearable+Weight+of+Massive+Talent+2022&FORM=SNAPST&filters=sid:%227e5ee9db-60e8-87b6-a26d-36be8e0162dd%22+fcid:%2223c23dea-4514-59f8-f797-ceae15624366%22+fccat:%229%22'},\n",
       " {'Title': \"Butcher's Crossing\",\n",
       "  'Link': 'https://www.bing.com/search?q=Butcher%27s+Crossing+2022&FORM=SNAPST&filters=sid:%22d42c6d10-3217-4746-cfa2-d451b656c618%22+fcid:%2223c23dea-4514-59f8-f797-ceae15624366%22+fccat:%229%22'},\n",
       " {'Title': \"Willy's Wonderland\",\n",
       "  'Link': 'https://www.bing.com/search?q=Willy%27s+Wonderland+2021&FORM=SNAPST&filters=sid:%22eee98f11-f2b2-9204-ab34-e21384e6c9ac%22+fcid:%2223c23dea-4514-59f8-f797-ceae15624366%22+fccat:%229%22'},\n",
       " {'Title': 'The Croods: A New Age',\n",
       "  'Link': 'https://www.bing.com/search?q=The+Croods%3a+A+New+Age+2020&FORM=SNAPST&filters=sid:%22145d30f0-3023-4082-9f47-cbeab807d175%22+fcid:%22dfc69137-76c1-9c86-3a63-ac708ebaf479%22+fccat:%229%22'},\n",
       " {'Title': 'Cruella',\n",
       "  'Link': 'https://www.bing.com/search?q=Cruella+2021&FORM=SNAPST&filters=sid:%22fa5761bf-387d-aafc-ac16-aceb2f992047%22+fcid:%22dfc69137-76c1-9c86-3a63-ac708ebaf479%22+fccat:%229%22'},\n",
       " {'Title': 'La La Land',\n",
       "  'Link': 'https://www.bing.com/search?q=La+La+Land+2016&FORM=SNAPST&filters=sid:%229049fb17-b473-a3ef-2b4d-b1764455c01d%22+fcid:%22dfc69137-76c1-9c86-3a63-ac708ebaf479%22+fccat:%229%22'},\n",
       " {'Title': 'Free Guy',\n",
       "  'Link': 'https://www.bing.com/search?q=Free+Guy&filters=ufn%3a%22Free+Guy%22+sid%3a%22178f4f14-540a-bcef-dc87-8138d6ac1d4f%22+catguid%3a%220f9e50fe-48fa-e040-0c90-775edca2beaa_df879f25%22+segment%3a%22generic.carousel%22+secq%3a%22ryan+reynolds+movies+and+tv+shows%22+supwlcar%3a%220%22+segtype%3a%22TW92aWU%3d%22+ctype%3a%220%22+mltype%3a%220%22+eltypedim1%3a%22Movie%22&FORM=SNAPCR'},\n",
       " {'Title': 'Deadpool',\n",
       "  'Link': 'https://www.bing.com/search?q=Deadpool+film&filters=ufn%3a%22Deadpool+film%22+sid%3a%22a83d2d19-25f5-ba82-735f-dc7cf5a5f467%22+catguid%3a%220f9e50fe-48fa-e040-0c90-775edca2beaa_df879f25%22+segment%3a%22generic.carousel%22+secq%3a%22ryan+reynolds+movies+and+tv+shows%22+supwlcar%3a%220%22+segtype%3a%22TW92aWU%3d%22+ctype%3a%220%22+mltype%3a%220%22+eltypedim1%3a%22Movie%22&FORM=SNAPCR'},\n",
       " {'Title': 'The Proposal',\n",
       "  'Link': 'https://www.bing.com/search?q=The+Proposal+2009+film&filters=ufn%3a%22The+Proposal+2009+film%22+sid%3a%225dc70efb-6e09-5ad2-f8f2-8a9568dd397b%22+catguid%3a%220f9e50fe-48fa-e040-0c90-775edca2beaa_df879f25%22+segment%3a%22generic.carousel%22+secq%3a%22ryan+reynolds+movies+and+tv+shows%22+supwlcar%3a%220%22+segtype%3a%22TW92aWU%3d%22+ctype%3a%220%22+mltype%3a%220%22+eltypedim1%3a%22Movie%22&FORM=SNAPCR'},\n",
       " {'Title': 'The Croods: A New Age',\n",
       "  'Link': 'https://www.bing.com/search?q=The+Croods%3a+A+New+Age+2020&FORM=SNAPST&filters=sid:%22145d30f0-3023-4082-9f47-cbeab807d175%22+fcid:%22dfc69137-76c1-9c86-3a63-ac708ebaf479%22+fccat:%229%22'},\n",
       " {'Title': 'Cruella',\n",
       "  'Link': 'https://www.bing.com/search?q=Cruella+2021&FORM=SNAPST&filters=sid:%22fa5761bf-387d-aafc-ac16-aceb2f992047%22+fcid:%22dfc69137-76c1-9c86-3a63-ac708ebaf479%22+fccat:%229%22'},\n",
       " {'Title': 'La La Land',\n",
       "  'Link': 'https://www.bing.com/search?q=La+La+Land+2016&FORM=SNAPST&filters=sid:%229049fb17-b473-a3ef-2b4d-b1764455c01d%22+fcid:%22dfc69137-76c1-9c86-3a63-ac708ebaf479%22+fccat:%229%22'},\n",
       " {'Title': 'Good Luck to You, Leo Grande',\n",
       "  'Link': 'https://www.bing.com/search?q=Good+Luck+to+You%2c+Leo+Grande+2022&FORM=SNAPST&filters=sid:%229a4e3a2b-7bea-514d-7dc7-e751506e1210%22+fcid:%223499ede2-1cef-ccd1-0a86-b4110b555eb9%22+fccat:%229%22'},\n",
       " {'Title': \"Roald Dahl's Matilda the Musical\",\n",
       "  'Link': 'https://www.bing.com/search?q=Roald+Dahl%27s+Matilda+the+Musical+2022&FORM=SNAPST&filters=sid:%22f1b41d04-3628-f44b-f21b-fb0d0a701f63%22+fcid:%223499ede2-1cef-ccd1-0a86-b4110b555eb9%22+fccat:%229%22'},\n",
       " {'Title': \"What's Love Got to Do with It?\",\n",
       "  'Link': 'https://www.bing.com/search?q=What%27s+Love+Got+to+Do+with+It%3f+2022&FORM=SNAPST&filters=sid:%224a11e9f4-718c-817e-275d-8850294657ec%22+fcid:%223499ede2-1cef-ccd1-0a86-b4110b555eb9%22+fccat:%229%22'},\n",
       " {'Title': 'Bank of Dave',\n",
       "  'Link': 'https://www.bing.com/search?q=Bank+of+Dave+2023&FORM=SNAPST&filters=sid:%2239cb653b-030a-c293-e8b0-86f424273821%22+fcid:%22b9a6dc14-c9d2-e79a-2aea-11c5effd075a%22+fccat:%229%22'},\n",
       " {'Title': 'In the Earth',\n",
       "  'Link': 'https://www.bing.com/search?q=In+the+Earth+2021&FORM=SNAPST&filters=sid:%22518b7684-1b7b-949a-7569-2a2622d0b8d6%22+fcid:%22b9a6dc14-c9d2-e79a-2aea-11c5effd075a%22+fccat:%229%22'},\n",
       " {'Title': 'Cruella',\n",
       "  'Link': 'https://www.bing.com/search?q=Cruella+2021&FORM=SNAPST&filters=sid:%22fa5761bf-387d-aafc-ac16-aceb2f992047%22+fcid:%22b9a6dc14-c9d2-e79a-2aea-11c5effd075a%22+fccat:%229%22'},\n",
       " {'Title': 'The Gray Man',\n",
       "  'Link': 'https://www.bing.com/search?q=The+Gray+Man+2022&FORM=SNAPST&filters=sid:%22f7b4e996-56b8-bc88-74ce-b4acf5834607%22+fcid:%22f81c53f2-7cc7-9980-fca4-b31c028835a4%22+fccat:%229%22'},\n",
       " {'Title': 'La La Land',\n",
       "  'Link': 'https://www.bing.com/search?q=La+La+Land+2016&FORM=SNAPST&filters=sid:%229049fb17-b473-a3ef-2b4d-b1764455c01d%22+fcid:%22f81c53f2-7cc7-9980-fca4-b31c028835a4%22+fccat:%229%22'},\n",
       " {'Title': 'The Place Beyond the Pines',\n",
       "  'Link': 'https://www.bing.com/search?q=The+Place+Beyond+the+Pines+2012&FORM=SNAPST&filters=sid:%225c3f3baf-17d0-df7d-f782-0109a187b28f%22+fcid:%22f81c53f2-7cc7-9980-fca4-b31c028835a4%22+fccat:%229%22'},\n",
       " {'Title': 'The Croods: A New Age',\n",
       "  'Link': 'https://www.bing.com/search?q=The+Croods%3a+A+New+Age+2020&FORM=SNAPST&filters=sid:%22145d30f0-3023-4082-9f47-cbeab807d175%22+fcid:%22dfc69137-76c1-9c86-3a63-ac708ebaf479%22+fccat:%229%22'},\n",
       " {'Title': 'Cruella',\n",
       "  'Link': 'https://www.bing.com/search?q=Cruella+2021&FORM=SNAPST&filters=sid:%22fa5761bf-387d-aafc-ac16-aceb2f992047%22+fcid:%22dfc69137-76c1-9c86-3a63-ac708ebaf479%22+fccat:%229%22'},\n",
       " {'Title': 'La La Land',\n",
       "  'Link': 'https://www.bing.com/search?q=La+La+Land+2016&FORM=SNAPST&filters=sid:%229049fb17-b473-a3ef-2b4d-b1764455c01d%22+fcid:%22dfc69137-76c1-9c86-3a63-ac708ebaf479%22+fccat:%229%22'},\n",
       " {'Title': 'The Estate',\n",
       "  'Link': 'https://www.bing.com/search?q=The+Estate+2022&FORM=SNAPST&filters=sid:%226a3e7747-43d3-0dd9-8ec5-89f2b70cd04e%22+fcid:%2285d4ec46-bf2e-a18e-0288-e48bd08aeefd%22+fccat:%229%22'},\n",
       " {'Title': 'The Professor',\n",
       "  'Link': 'https://www.bing.com/search?q=The+Professor+2018&FORM=SNAPST&filters=sid:%228b0fc013-ed3b-6f5a-afdf-604b2f51a277%22+fcid:%2285d4ec46-bf2e-a18e-0288-e48bd08aeefd%22+fccat:%229%22'},\n",
       " {'Title': 'La La Land',\n",
       "  'Link': 'https://www.bing.com/search?q=La+La+Land+2016&FORM=SNAPST&filters=sid:%229049fb17-b473-a3ef-2b4d-b1764455c01d%22+fcid:%2285d4ec46-bf2e-a18e-0288-e48bd08aeefd%22+fccat:%229%22'}]"
      ]
     },
     "execution_count": 12,
     "metadata": {},
     "output_type": "execute_result"
    }
   ],
   "source": [
    "data"
   ]
  },
  {
   "cell_type": "code",
   "execution_count": 13,
   "metadata": {},
   "outputs": [
    {
     "data": {
      "text/plain": [
       "27"
      ]
     },
     "execution_count": 13,
     "metadata": {},
     "output_type": "execute_result"
    }
   ],
   "source": [
    "len(data)"
   ]
  }
 ],
 "metadata": {
  "kernelspec": {
   "display_name": "venv",
   "language": "python",
   "name": "python3"
  },
  "language_info": {
   "codemirror_mode": {
    "name": "ipython",
    "version": 3
   },
   "file_extension": ".py",
   "mimetype": "text/x-python",
   "name": "python",
   "nbconvert_exporter": "python",
   "pygments_lexer": "ipython3",
   "version": "3.8.10"
  },
  "orig_nbformat": 4
 },
 "nbformat": 4,
 "nbformat_minor": 2
}
